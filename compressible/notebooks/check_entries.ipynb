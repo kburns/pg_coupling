{
 "cells": [
  {
   "cell_type": "code",
   "execution_count": null,
   "metadata": {},
   "outputs": [],
   "source": [
    "fig, ((ax1, ax2), (ax3, ax4)) = plt.subplots(2, 2, figsize=(10,10))\n",
    "# Plot full L matrix\n",
    "L = pencil.L_full.copy()\n",
    "M = pencil.M_full.copy()\n",
    "im1 = ax1.imshow(np.log10(np.abs(L.A)), cmap='viridis')\n",
    "im2 = ax2.hist(np.log10(np.abs(L.A[L.A!=0])), bins=60)\n",
    "ax2.axvline(np.log10(param.matrix_cutoff), c='k')\n",
    "ax1.set_aspect('equal')\n",
    "plt.colorbar(im1, ax=ax1)\n",
    "# Plot truncated L matrix\n",
    "L = pencil.L.copy()\n",
    "M = pencil.M.copy()\n",
    "im1 = ax3.imshow(np.log10(np.abs(L.A)), cmap='viridis')\n",
    "im2 = ax4.hist(np.log10(np.abs(L.A[L.A!=0])), bins=60)\n",
    "plt.colorbar(im1, ax=ax3)"
   ]
  }
 ],
 "metadata": {
  "kernelspec": {
   "display_name": "Python 3",
   "language": "python",
   "name": "python3"
  },
  "language_info": {
   "codemirror_mode": {
    "name": "ipython",
    "version": 3
   },
   "file_extension": ".py",
   "mimetype": "text/x-python",
   "name": "python",
   "nbconvert_exporter": "python",
   "pygments_lexer": "ipython3",
   "version": "3.6.0"
  }
 },
 "nbformat": 4,
 "nbformat_minor": 2
}
