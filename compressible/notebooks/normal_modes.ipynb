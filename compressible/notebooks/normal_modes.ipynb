{
 "cells": [
  {
   "cell_type": "code",
   "execution_count": null,
   "metadata": {},
   "outputs": [],
   "source": [
    "import numpy as np\n",
    "import matplotlib.pyplot as plt\n",
    "import dedalus.public as de\n",
    "import dedalus.extras.plot_tools as plot_tools\n",
    "import atmospheres as atmos\n",
    "import tides\n",
    "import parameters as param\n",
    "import mpi4py.MPI as MPI\n",
    "import uuid\n",
    "import logging\n",
    "logger = logging.getLogger(__name__)\n",
    "%matplotlib notebook"
   ]
  },
  {
   "cell_type": "code",
   "execution_count": null,
   "metadata": {},
   "outputs": [],
   "source": [
    "import importlib\n",
    "importlib.reload(param)"
   ]
  },
  {
   "cell_type": "markdown",
   "metadata": {},
   "source": [
    "## Problem"
   ]
  },
  {
   "cell_type": "code",
   "execution_count": null,
   "metadata": {
    "scrolled": false
   },
   "outputs": [],
   "source": [
    "kx = param.k_tide\n",
    "domain, problem = tides.eigenmodes_1d(param, kx=kx)"
   ]
  },
  {
   "cell_type": "markdown",
   "metadata": {},
   "source": [
    "## Solver"
   ]
  },
  {
   "cell_type": "code",
   "execution_count": null,
   "metadata": {},
   "outputs": [],
   "source": [
    "# Build solver\n",
    "from dedalus.tools.sparse import scipy_sparse_eigs\n",
    "solver = problem.build_solver()\n",
    "pencil = solver.pencils[0]\n",
    "\n",
    "N = 20\n",
    "target = 0.024 - 0.001j\n",
    "#solver.solve(pencil)\n",
    "solver.solve_sparse(pencil, N=N, target=target)\n",
    "solver.adjoint_eigenvalues, solver.adjoint_eigenvectors = scipy_sparse_eigs(A=pencil.L_exp.getH(), B=-pencil.M_exp.getH(), N=N, target=np.conj(target))"
   ]
  },
  {
   "cell_type": "code",
   "execution_count": null,
   "metadata": {},
   "outputs": [],
   "source": [
    "sorting = np.argsort(solver.eigenvalues)\n",
    "solver.eigenvalues = solver.eigenvalues[sorting]\n",
    "solver.eigenvectors = solver.eigenvectors[:,sorting]\n",
    "\n",
    "sorting = np.argsort(solver.adjoint_eigenvalues.conj())\n",
    "solver.adjoint_eigenvalues = solver.adjoint_eigenvalues[sorting]\n",
    "solver.adjoint_eigenvectors = solver.adjoint_eigenvectors[:,sorting]\n",
    "\n",
    "print(solver.eigenvalues)\n",
    "print('Adjoint evals match:', np.allclose(solver.eigenvalues, solver.adjoint_eigenvalues.conj()))"
   ]
  },
  {
   "cell_type": "code",
   "execution_count": null,
   "metadata": {},
   "outputs": [],
   "source": [
    "# Normalize raw eigenvectors\n",
    "norm = solver.eigenvectors.T.conj() @ solver.eigenvectors\n",
    "eigenvectors = solver.eigenvectors / np.sqrt(np.diag(norm))\n",
    "norm = solver.adjoint_eigenvectors.T.conj() @ solver.adjoint_eigenvectors\n",
    "adjoint_eigenvectors = solver.adjoint_eigenvectors / np.sqrt(np.diag(norm))\n",
    "# Normalize adjoint modes\n",
    "g = adjoint_eigenvectors.T.conj() @ pencil.M @ eigenvectors\n",
    "evecs_adj_norm = adjoint_eigenvectors / np.diag(g).conj()\n",
    "evecs_norm = eigenvectors \n",
    "g = evecs_adj_norm.T.conj() @ pencil.M @ evecs_norm\n",
    "proj = evecs_adj_norm.T.conj() @ pencil.M\n",
    "\n",
    "plt.figure()\n",
    "plt.imshow(np.log10(np.abs(g)), cmap='viridis')\n",
    "plt.colorbar()\n",
    "print(np.diag(g))"
   ]
  },
  {
   "cell_type": "code",
   "execution_count": null,
   "metadata": {
    "scrolled": false
   },
   "outputs": [],
   "source": [
    "pencil = solver.pencils[0]\n",
    "fig, ((ax1, ax2), (ax3, ax4)) = plt.subplots(2, 2, figsize=(10,10))\n",
    "# Plot full L matrix\n",
    "L = LF = pencil.L_full.copy()\n",
    "M = pencil.M_full.copy()\n",
    "im1 = ax1.imshow(np.log10(np.abs(L.A)), cmap='viridis')\n",
    "im2 = ax2.hist(np.log10(np.abs(L.A[L.A!=0])), bins=60)\n",
    "ax2.axvline(np.log10(param.matrix_cutoff), c='k')\n",
    "ax1.set_aspect('equal')\n",
    "plt.colorbar(im1, ax=ax1)\n",
    "# Plot truncated L matrix\n",
    "L = pencil.L.copy()\n",
    "M = pencil.M.copy()\n",
    "im1 = ax3.imshow(np.log10(np.abs(L.A)), cmap='viridis')\n",
    "im2 = ax4.hist(np.log10(np.abs(L.A[L.A!=0])), bins=60)\n",
    "plt.colorbar(im1, ax=ax3)"
   ]
  },
  {
   "cell_type": "code",
   "execution_count": null,
   "metadata": {
    "scrolled": false
   },
   "outputs": [],
   "source": [
    "# Filter eigenvalues\n",
    "evals = solver.eigenvalues.copy()\n",
    "\n",
    "fig = plt.figure(figsize=(10,8))\n",
    "ax1 = plt.subplot2grid((3,4), (0,0), rowspan=2, colspan=4)\n",
    "ax1.scatter(evals.real, evals.imag, picker=2)\n",
    "active_dot, = ax1.plot(0, 0, '.r')\n",
    "active_ev = fig.suptitle('')\n",
    "\n",
    "ax2 = plt.subplot2grid((3,4), (2,0))\n",
    "ax3 = plt.subplot2grid((3,4), (2,1))\n",
    "ax4 = plt.subplot2grid((3,4), (2,2))\n",
    "ax5 = plt.subplot2grid((3,4), (2,3))\n",
    "\n",
    "p0 = problem.namespace['p0']\n",
    "a0 = problem.namespace['a0']\n",
    "scales = 10\n",
    "p0.set_scales(scales)\n",
    "a0.set_scales(scales)\n",
    "for field in solver.state.fields:\n",
    "    field.set_scales(scales)\n",
    "z = domain.grid(0, scales=scales)\n",
    "\n",
    "def plot_mode(event):\n",
    "    # Update active eigenvalue\n",
    "\n",
    "    x, y = event.mouseevent.xdata, event.mouseevent.ydata\n",
    "    index = np.argmin(np.abs(solver.eigenvalues - (x + 1j*y)))\n",
    "    ev = solver.eigenvalues[index]\n",
    "    active_dot.set_xdata([ev.real])\n",
    "    active_dot.set_ydata([ev.imag])\n",
    "    active_ev.set_text('%i: %s' %(index, ev))\n",
    "    # Plot mode\n",
    "    solver.set_state(index)\n",
    "    u = solver.state['u']\n",
    "    w = solver.state['w']\n",
    "    p1 = solver.state['p1']\n",
    "    a1 = solver.state['a1']\n",
    "    ρ1 = -a1['g'] / a0['g']**2\n",
    "    phase = p1['g'][0]\n",
    "    phase = phase / np.abs(phase)\n",
    "    ax2.cla()\n",
    "    ax2.plot(z, (u['g']/phase).real, '-b')\n",
    "    ax2.plot(z, (u['g']/phase).imag, '--b')\n",
    "    ax2.set_title('u')\n",
    "    ax3.cla()\n",
    "    ax3.plot(z, (w['g']/phase).real, '-b')\n",
    "    ax3.plot(z, (w['g']/phase).imag, '--b')\n",
    "    ax3.set_title('w')\n",
    "    ax4.cla()\n",
    "    ax4.plot(z, (p1['g']/phase).real, '-b')\n",
    "    ax4.plot(z, (p1['g']/phase).imag, '--b')\n",
    "    ax4.set_title('p1')\n",
    "    ax5.cla()\n",
    "    ax5.plot(z, (a1['g']/phase).real, '-b')\n",
    "    ax5.plot(z, (a1['g']/phase).imag, '--b')\n",
    "    ax5.set_title('a1')\n",
    "\n",
    "fig.canvas.mpl_connect('pick_event', plot_mode)"
   ]
  },
  {
   "cell_type": "code",
   "execution_count": null,
   "metadata": {},
   "outputs": [],
   "source": [
    "eval_neg = solver.eigenvalues.copy()\n",
    "evec_neg = solver.eigenvectors.copy()"
   ]
  },
  {
   "cell_type": "code",
   "execution_count": null,
   "metadata": {},
   "outputs": [],
   "source": [
    "eval_pos = solver.eigenvalues.copy()\n",
    "evec_pos = solver.eigenvectors.copy()"
   ]
  },
  {
   "cell_type": "code",
   "execution_count": null,
   "metadata": {},
   "outputs": [],
   "source": [
    "evec_pos.shape"
   ]
  },
  {
   "cell_type": "code",
   "execution_count": null,
   "metadata": {},
   "outputs": [],
   "source": [
    "evec_neg.T.conj() @ evec_pos"
   ]
  },
  {
   "cell_type": "code",
   "execution_count": null,
   "metadata": {},
   "outputs": [],
   "source": [
    "# Print mode info\n",
    "index = 0\n",
    "ev = solver.eigenvalues[index]\n",
    "print('ω_tide:', ev.real)\n",
    "print('t_tide:', 1 / (ev.real))\n",
    "print('P_tide:', 2*np.pi / (ev.real))\n",
    "print('t_visc:', -1 / ev.imag)"
   ]
  },
  {
   "cell_type": "code",
   "execution_count": null,
   "metadata": {},
   "outputs": [],
   "source": [
    "# Plot mode\n",
    "index = 0\n",
    "field = 'w'\n",
    "\n",
    "x = np.linspace(0, param.Lx, 10*param.Nx)[:,None]\n",
    "z = domain.grid(0, scales=scales)\n",
    "Z, X = plot_tools.quad_mesh(z.flatten(), x.flatten())\n",
    "\n",
    "f = solver.state[field]\n",
    "f.set_scales(scales)\n",
    "F = f['g'] * np.exp(1j*kx*x)\n",
    "fig, axes = plt.subplots(1, 1)\n",
    "axes.pcolormesh(X, Z, F.real)\n",
    "axes.set_xlabel('x')\n",
    "axes.set_ylabel('z')\n",
    "axes.set_title(field)"
   ]
  },
  {
   "cell_type": "code",
   "execution_count": null,
   "metadata": {},
   "outputs": [],
   "source": []
  },
  {
   "cell_type": "code",
   "execution_count": null,
   "metadata": {},
   "outputs": [],
   "source": []
  },
  {
   "cell_type": "code",
   "execution_count": null,
   "metadata": {},
   "outputs": [],
   "source": []
  },
  {
   "cell_type": "code",
   "execution_count": null,
   "metadata": {},
   "outputs": [],
   "source": []
  },
  {
   "cell_type": "code",
   "execution_count": null,
   "metadata": {},
   "outputs": [],
   "source": [
    "# dt(a1) + w*a0z -   a0*div_u = 0\n",
    "# dt(p1) + w*p0z + γ*p0*div_u = 0\n",
    "\n",
    "kx = param.k_tide\n",
    "dz = problem.namespace['dz']\n",
    "a0z = problem.namespace['a0z']\n",
    "p0z = problem.namespace['p0z']\n",
    "γ = param.γ\n",
    "\n",
    "σ = solver.eigenvalues[index]\n",
    "u = solver.state['u']\n",
    "w = solver.state['w']\n",
    "a1 = solver.state['a1']\n",
    "p1 = solver.state['p1']\n",
    "\n",
    "dx = lambda A: 1j*kx*A\n",
    "dt = lambda A: -1j*σ*A\n",
    "\n",
    "xix = u / dt(1)\n",
    "xiz = w / dt(1)\n",
    "div_u = (dx(u) + dz(w))\n",
    "\n",
    "a1g = ((-w*a0z + a0*div_u) / dt(1)).evaluate()\n",
    "p1g = ((-w*p0z - γ*p0*div_u) / dt(1)).evaluate()"
   ]
  },
  {
   "cell_type": "code",
   "execution_count": null,
   "metadata": {},
   "outputs": [],
   "source": [
    "print(np.allclose(a1['c'], a1g['c']))\n",
    "print(np.allclose(p1['c'], p1g['c']))"
   ]
  },
  {
   "cell_type": "code",
   "execution_count": null,
   "metadata": {},
   "outputs": [],
   "source": [
    "# Test orthogonality\n",
    "n = 10\n",
    "g = np.zeros((n, n), dtype=np.float64)\n",
    "integ = problem.namespace['integ']\n",
    "weight = 1 / a0\n",
    "u1 = domain.new_field()\n",
    "u2 = domain.new_field()\n",
    "w1 = domain.new_field()\n",
    "w2 = domain.new_field()\n",
    "inner_product = integ(weight * (u1*np.conj(u2) + w1*np.conj(w2)))\n",
    "for i in range(n):\n",
    "    solver.set_state(i)\n",
    "    u1['c'] = solver.state['u']['c']\n",
    "    w1['c'] = solver.state['w']['c']\n",
    "    for j in range(n):\n",
    "        solver.set_state(j)\n",
    "        u2['c'] = solver.state['u']['c']\n",
    "        w2['c'] = solver.state['w']['c']\n",
    "        g[i,j] = np.abs(inner_product.evaluate()['c'][0])\n",
    "g.real"
   ]
  },
  {
   "cell_type": "code",
   "execution_count": null,
   "metadata": {},
   "outputs": [],
   "source": []
  },
  {
   "cell_type": "code",
   "execution_count": null,
   "metadata": {},
   "outputs": [],
   "source": []
  },
  {
   "cell_type": "code",
   "execution_count": null,
   "metadata": {},
   "outputs": [],
   "source": []
  },
  {
   "cell_type": "code",
   "execution_count": null,
   "metadata": {},
   "outputs": [],
   "source": [
    "ev = solver.eigenvalues[index]\n",
    "γ = ev.imag\n",
    "ω0 = np.sqrt(ev.real**2 + γ**2)"
   ]
  },
  {
   "cell_type": "code",
   "execution_count": null,
   "metadata": {},
   "outputs": [],
   "source": [
    "ω = 0.05\n",
    "FA2 = (ω0**2 - ω**2)**2 + 4*γ**2*ω**2\n",
    "A = FA2**(-1/2)\n",
    "A"
   ]
  },
  {
   "cell_type": "code",
   "execution_count": null,
   "metadata": {},
   "outputs": [],
   "source": [
    "ω"
   ]
  },
  {
   "cell_type": "code",
   "execution_count": null,
   "metadata": {},
   "outputs": [],
   "source": [
    "2*np.pi / ω"
   ]
  },
  {
   "cell_type": "code",
   "execution_count": null,
   "metadata": {},
   "outputs": [],
   "source": [
    "1 / γ"
   ]
  },
  {
   "cell_type": "code",
   "execution_count": null,
   "metadata": {},
   "outputs": [],
   "source": []
  },
  {
   "cell_type": "code",
   "execution_count": null,
   "metadata": {},
   "outputs": [],
   "source": []
  },
  {
   "cell_type": "code",
   "execution_count": null,
   "metadata": {},
   "outputs": [],
   "source": []
  },
  {
   "cell_type": "code",
   "execution_count": null,
   "metadata": {},
   "outputs": [],
   "source": [
    "# Filter eigenvalues\n",
    "evals = solver.eigenvalues.copy()\n",
    "evals = evals[np.isfinite(evals)]\n",
    "evals = evals[np.abs(evals.real) < 1]\n",
    "evals = evals[np.abs(evals.imag) > 1e-2]\n",
    "evals = evals[np.abs(evals.imag) < 1e2]\n",
    "\n",
    "fig, axes = plt.subplots(1, 1)\n",
    "axes.scatter(evals.real, evals.imag)"
   ]
  },
  {
   "cell_type": "code",
   "execution_count": null,
   "metadata": {
    "scrolled": false
   },
   "outputs": [],
   "source": [
    "fig = plt.figure()\n",
    "ax1 = fig.add_subplot(2,2,1)\n",
    "ax2 = fig.add_subplot(2,2,2)\n",
    "ax3 = fig.add_subplot(2,2,3)\n",
    "ax4 = fig.add_subplot(2,2,4)\n",
    "scales = 4\n",
    "a0.set_scales(scales)\n",
    "for field in solver.state.fields:\n",
    "    field.set_scales(scales)\n",
    "z = domain.grid(0, scales=scales)\n",
    "for ev in evals:\n",
    "    print(ev)\n",
    "    index = np.where(solver.eigenvalues == ev)[0][0]\n",
    "    solver.set_state(index)\n",
    "    u = solver.state['u']['g']\n",
    "    w = solver.state['w']['g']\n",
    "    wz = solver.state['wz']['g']\n",
    "    p1 = solver.state['p1']['g']\n",
    "    a1 = solver.state['a1']['g']\n",
    "    ρ1 = -a1 / a0['g']**2\n",
    "    ax1.plot(z, np.abs(u))\n",
    "    ax1.set_title('|u|')\n",
    "    ax2.plot(z, np.abs(w))\n",
    "    ax2.set_title('|w|')\n",
    "    ax3.plot(z, np.abs(p1))\n",
    "    ax3.set_title('|p1|')\n",
    "    ax4.plot(z, np.abs(ρ1))\n",
    "    ax4.set_title('|ρ1|')"
   ]
  },
  {
   "cell_type": "code",
   "execution_count": null,
   "metadata": {},
   "outputs": [],
   "source": []
  }
 ],
 "metadata": {
  "kernelspec": {
   "display_name": "Python 3",
   "language": "python",
   "name": "python3"
  },
  "language_info": {
   "codemirror_mode": {
    "name": "ipython",
    "version": 3
   },
   "file_extension": ".py",
   "mimetype": "text/x-python",
   "name": "python",
   "nbconvert_exporter": "python",
   "pygments_lexer": "ipython3",
   "version": "3.6.0"
  }
 },
 "nbformat": 4,
 "nbformat_minor": 2
}
