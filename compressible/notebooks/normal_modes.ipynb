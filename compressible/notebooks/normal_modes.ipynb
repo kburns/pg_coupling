{
 "cells": [
  {
   "cell_type": "code",
   "execution_count": null,
   "metadata": {},
   "outputs": [],
   "source": [
    "import numpy as np\n",
    "import matplotlib.pyplot as plt\n",
    "import dedalus.public as de\n",
    "import dedalus.extras.plot_tools as plot_tools\n",
    "import atmospheres as atmos\n",
    "import parameters as param\n",
    "import mpi4py.MPI as MPI\n",
    "import uuid\n",
    "import logging\n",
    "logger = logging.getLogger(__name__)\n",
    "%matplotlib notebook"
   ]
  },
  {
   "cell_type": "code",
   "execution_count": null,
   "metadata": {},
   "outputs": [],
   "source": [
    "import importlib\n",
    "importlib.reload(param)"
   ]
  },
  {
   "cell_type": "markdown",
   "metadata": {},
   "source": [
    "## Background"
   ]
  },
  {
   "cell_type": "code",
   "execution_count": null,
   "metadata": {
    "scrolled": false
   },
   "outputs": [],
   "source": [
    "domain, p_bvp = atmos.solve_hydrostatic_pressure(param, np.complex128)\n",
    "p_full, p0, a_full, a0, heq, N2 = atmos.truncate_background(param, p_bvp)"
   ]
  },
  {
   "cell_type": "markdown",
   "metadata": {},
   "source": [
    "## Problem"
   ]
  },
  {
   "cell_type": "code",
   "execution_count": null,
   "metadata": {
    "scrolled": false
   },
   "outputs": [],
   "source": [
    "# Adiabatic viscous fully-compressible hydrodynamics\n",
    "problem = de.EVP(domain, variables=['a1','p1','u','w','uz','wz'], eigenvalue='σ', ncc_cutoff=param.ivp_cutoff, entry_cutoff=param.matrix_cutoff)\n",
    "problem.meta[:]['z']['dirichlet'] = True\n",
    "problem.parameters['a0'] = a0\n",
    "problem.parameters['p0'] = p0\n",
    "problem.parameters['a0z'] = a0.differentiate('z')\n",
    "problem.parameters['p0z'] = p0.differentiate('z')\n",
    "problem.substitutions['a0x'] = \"0\" #a0.differentiate('x')\n",
    "problem.substitutions['p0x'] = \"0\" #p0.differentiate('x')\n",
    "problem.parameters['kx'] = kx = param.k_tide\n",
    "\n",
    "problem.parameters['U'] = 0\n",
    "problem.parameters['μ'] = param.μ\n",
    "problem.parameters['γ'] = param.γ\n",
    "problem.parameters['Lz'] = param.Lz\n",
    "problem.substitutions['dt(A)'] = \"-1j*σ*A\"\n",
    "problem.substitutions['dx(A)'] = \"1j*kx*A\"\n",
    "problem.substitutions['ux'] = \"dx(u)\"\n",
    "problem.substitutions['wx'] = \"dx(w)\"\n",
    "problem.substitutions['div_u'] = \"ux + wz\"\n",
    "problem.substitutions['txx'] = \"μ*(2*ux - 2/3*div_u)\"\n",
    "problem.substitutions['txz'] = \"μ*(wx + uz)\"\n",
    "problem.substitutions['tzz'] = \"μ*(2*wz - 2/3*div_u)\"\n",
    "problem.substitutions['φ'] = \"0\"\n",
    "problem.substitutions['cs20'] = \"γ*p0*a0\"\n",
    "problem.add_equation(\"dt(u) + U*ux + a0*dx(p1) + a1*p0x - a0*(dx(txx) + dz(txz)) = - (u*ux + w*uz) - a1*dx(p1) + a1*(dx(txx) + dz(txz)) - dx(φ)\")\n",
    "problem.add_equation(\"dt(w) + U*wx + a0*dz(p1) + a1*p0z - a0*(dx(txz) + dz(tzz)) = - (u*wx + w*wz) - a1*dz(p1) + a1*(dx(txz) + dz(tzz)) - dz(φ)\")\n",
    "problem.add_equation(\"dt(a1) + U*dx(a1) + u*a0x + w*a0z -   a0*div_u = - (U*a0x + u*dx(a1) + w*dz(a1)) +   a1*div_u\")\n",
    "problem.add_equation(\"dt(p1) + U*dx(p1) + u*p0x + w*p0z + γ*p0*div_u = - (U*p0x + u*dx(p1) + w*dz(p1)) - γ*p1*div_u\")\n",
    "problem.add_equation(\"uz - dz(u) = 0\")\n",
    "problem.add_equation(\"wz - dz(w) = 0\")\n",
    "problem.add_bc(\"left(txz) = 0\")\n",
    "problem.add_bc(\"right(txz) = 0\")\n",
    "problem.add_bc(\"left(w) = 0\")\n",
    "problem.add_bc(\"right(w) = 0\")"
   ]
  },
  {
   "cell_type": "markdown",
   "metadata": {},
   "source": [
    "## Solver"
   ]
  },
  {
   "cell_type": "code",
   "execution_count": null,
   "metadata": {},
   "outputs": [],
   "source": [
    "# Build solver\n",
    "solver = problem.build_solver()\n",
    "pencil = solver.pencils[0]\n",
    "cacheid = uuid.uuid4()\n",
    "pencil.build_matrices(problem, ['M', 'L'], cacheid=cacheid)\n",
    "solver.eigenvalue_pencil = pencil"
   ]
  },
  {
   "cell_type": "code",
   "execution_count": null,
   "metadata": {},
   "outputs": [],
   "source": [
    "fig, ((ax1, ax2), (ax3, ax4)) = plt.subplots(2, 2, figsize=(10,10))\n",
    "L = pencil.L_exp.copy()\n",
    "M = pencil.M_exp.copy()\n",
    "# Plot L matrix\n",
    "im1 = ax1.imshow(np.log10(np.abs(L.A)), cmap='viridis')\n",
    "im2 = ax2.hist(np.log10(np.abs(L.A[L.A!=0])), bins=60)\n",
    "ax2.axvline(np.log10(param.matrix_cutoff), c='k')\n",
    "ax1.set_aspect('equal')\n",
    "plt.colorbar(im1, ax=ax1)\n",
    "# Filter low entries\n",
    "L[np.abs(L) < param.matrix_cutoff] = 0\n",
    "M[np.abs(M) < param.matrix_cutoff] = 0\n",
    "L.eliminate_zeros()\n",
    "M.eliminate_zeros()\n",
    "# Plot filtered L matrix\n",
    "im1 = ax3.imshow(np.log10(np.abs(L.A)), cmap='viridis')\n",
    "im2 = ax4.hist(np.log10(np.abs(L.A[L.A!=0])), bins=60)\n",
    "plt.colorbar(im1, ax=ax3)"
   ]
  },
  {
   "cell_type": "code",
   "execution_count": null,
   "metadata": {},
   "outputs": [],
   "source": [
    "from scipy.sparse import linalg as spla\n",
    "from petsc4py import PETSc\n",
    "from slepc4py import SLEPc\n",
    "from scipy import sparse\n",
    "from scipy import linalg\n",
    "\n",
    "\n",
    "def scipy_to_petsc(A_sc):\n",
    "    \"\"\"\n",
    "    Build PETSc sparse matrices from scipy sparse matrices.\n",
    "\n",
    "    Parameters\n",
    "    ----------\n",
    "    A_sc : scipy sparse matrix\n",
    "\n",
    "    \"\"\"\n",
    "    # Explicitly add zeros to diagonal\n",
    "    A_sc = A_sc.tocoo()\n",
    "    data = np.concatenate((A_sc.data, np.zeros(A_sc.shape[0])))\n",
    "    row = np.concatenate((A_sc.row, np.arange(A_sc.shape[0])))\n",
    "    col = np.concatenate((A_sc.col, np.arange(A_sc.shape[0])))\n",
    "    A_sc = sparse.coo_matrix((data, (row, col)))\n",
    "    # Build PETSc matrix using CSR description\n",
    "    A_sc = A_sc.tocsr()\n",
    "    A_pe = PETSc.Mat()\n",
    "    A_pe.createAIJ(size=A_sc.shape, csr=(A_sc.indptr, A_sc.indices, A_sc.data))\n",
    "    return A_pe\n",
    "\n",
    "\n",
    "def scipy_dense_eigs(A_sc, B_sc, N=5):\n",
    "    \"\"\"\n",
    "    Compute smallest magnitude eigenvalues using scipy dense solver for the\n",
    "    generalized eigenvalue problem\n",
    "\n",
    "        A.x = λ B.x\n",
    "\n",
    "    Parameters\n",
    "    ----------\n",
    "    A_sc, B_sc : scipy sparse matrices\n",
    "        Sparse matrices for generalized eigenvalue problem\n",
    "    N : int\n",
    "        Number of eigenvalues to return\n",
    "\n",
    "    \"\"\"\n",
    "    # Solve using scipy dense algorithm\n",
    "    evals, evecs = linalg.eig(a=A_sc.A, b=B_sc.A)\n",
    "    evals = evals[np.isfinite(evals)]\n",
    "    evals = evals[np.argsort(np.abs(evals))]\n",
    "    return evals[:N]\n",
    "\n",
    "\n",
    "def scipy_sparse_eigs(A_sc, B_sc, N=5):\n",
    "    \"\"\"\n",
    "    Compute smallest magnitude eigenvalues using scipy sparse solver for the\n",
    "    reformulated generalized eigenvalue problem\n",
    "\n",
    "        A.x = λ B.x  ==>  (A^-1).B.x = (1/λ) x\n",
    "\n",
    "    Parameters\n",
    "    ----------\n",
    "    A_sc, B_sc : scipy sparse matrices\n",
    "        Sparse matrices for generalized eigenvalue problem\n",
    "    N : int\n",
    "        Number of eigenvalues to return\n",
    "\n",
    "    \"\"\"\n",
    "    # Build sparse linear operator representing (A^-1).B\n",
    "    def matvec(x):\n",
    "        return spla.spsolve(A_sc, B_sc.dot(x))\n",
    "    A = spla.LinearOperator(dtype=A_sc.dtype, shape=A_sc.shape, matvec=matvec)\n",
    "    # Solve using scipy sparse algorithm\n",
    "    evals, evecs = spla.eigs(A, k=N, which='LM', tol=1e-10)\n",
    "    evals = 1 / evals\n",
    "    evals = evals[np.isfinite(evals)]\n",
    "    evals = evals[np.argsort(np.abs(evals))]\n",
    "    return evals\n",
    "\n",
    "\n",
    "def slepc_sparse_eigs(A_sc, B_sc, N=5, target=0, tol=1e-10, verbose=True):\n",
    "    \"\"\"\n",
    "    Compute smallest magnitude eigenvalues using SLEPc iterative sparse solver\n",
    "    for the generalized eigenvalue problem\n",
    "\n",
    "        A.x = λ B.x\n",
    "\n",
    "    Parameters\n",
    "    ----------\n",
    "    A_sc, B_sc : scipy sparse matrices\n",
    "        Sparse matrices for generalized eigenvalue problem\n",
    "    N : int\n",
    "        Number of eigenvalues to return\n",
    "    verbose : boolean, optional\n",
    "        Print solver statistics\n",
    "\n",
    "    \"\"\"\n",
    "    # Build PETSc matrices\n",
    "    A_pe = scipy_to_petsc(A_sc)\n",
    "    B_pe = scipy_to_petsc(B_sc)\n",
    "    # Build SLEPc eigenvalue problem solver\n",
    "    EPS = SLEPc.EPS()\n",
    "    EPS.create()\n",
    "    EPS.setOperators(A_pe, B_pe)\n",
    "    EPS.setProblemType(SLEPc.EPS.ProblemType.GNHEP)\n",
    "    EPS.setTarget(target)\n",
    "    EPS.setTolerances(tol=tol)\n",
    "    EPS.setDimensions(nev=N)\n",
    "    # Specify shift-inversion since B may be singular\n",
    "    ST = EPS.getST()\n",
    "    ST.setType('sinvert')\n",
    "    # Specify direct LU factorization for the solver\n",
    "    KSP = ST.getKSP()\n",
    "    KSP.setType('preonly')\n",
    "    PC = KSP.getPC()\n",
    "    PC.setType('lu')\n",
    "    PC.setFactorSolverPackage('mumps')\n",
    "    # Solve\n",
    "    EPS.solve()\n",
    "    if verbose:\n",
    "        print(\"  SLEPc iterations:\", EPS.getIterationNumber())\n",
    "        print(\"  SLEPc solution method:\", EPS.getType())\n",
    "        print(\"  SLEPc number of requested eigenvalues:\", EPS.getDimensions()[0])\n",
    "        print(\"  SLEPc number of converged eigenvalues:\", EPS.getConverged())\n",
    "    # Assemble output\n",
    "    evals = []\n",
    "    evecs = []\n",
    "    vr, wr = A_pe.getVecs()\n",
    "    vi, wi = A_pe.getVecs()\n",
    "    for i in range(EPS.getConverged()):\n",
    "        evals.append(EPS.getEigenpair(i, vr, vi))\n",
    "        evecs.append(vr.getArray() + 1j*vi.getArray())\n",
    "    evals = np.array(evals)\n",
    "    evecs = np.array(evecs).T\n",
    "    #evals = evals[np.isfinite(evals)]\n",
    "    #evals = evals[np.argsort(np.abs(evals))]\n",
    "    return evals, evecs"
   ]
  },
  {
   "cell_type": "code",
   "execution_count": null,
   "metadata": {},
   "outputs": [],
   "source": [
    "evals, evecs = slepc_sparse_eigs(L, -M, N=10, target=1.0-0.01j)\n",
    "solver.eigenvalues = evals\n",
    "solver.eigenvectors = pencil.JD @ evecs"
   ]
  },
  {
   "cell_type": "code",
   "execution_count": null,
   "metadata": {
    "scrolled": false
   },
   "outputs": [],
   "source": [
    "# Filter eigenvalues\n",
    "evals = solver.eigenvalues.copy()\n",
    "evals = evals[np.isfinite(evals)]\n",
    "#evals = evals[np.abs(evals.real) < 0.5]\n",
    "#evals = evals[np.abs(evals.imag) < 0.5]\n",
    "\n",
    "fig = plt.figure(figsize=(10,8))\n",
    "ax1 = plt.subplot2grid((3,4), (0,0), rowspan=2, colspan=4)\n",
    "ax1.scatter(evals.real, evals.imag, picker=2)\n",
    "#ax1.set_xscale('symlog')\n",
    "#ax1.set_yscale('symlog')\n",
    "active_dot, = ax1.plot(0, 0, '.r')\n",
    "active_ev = fig.suptitle('')\n",
    "\n",
    "ax2 = plt.subplot2grid((3,4), (2,0))\n",
    "ax3 = plt.subplot2grid((3,4), (2,1))\n",
    "ax4 = plt.subplot2grid((3,4), (2,2))\n",
    "ax5 = plt.subplot2grid((3,4), (2,3))\n",
    "\n",
    "scales = 1\n",
    "p0.set_scales(scales)\n",
    "a0.set_scales(scales)\n",
    "for field in solver.state.fields:\n",
    "    field.set_scales(scales)\n",
    "z = domain.grid(0, scales=scales)\n",
    "\n",
    "def plot_mode(event):\n",
    "    # Update active eigenvalue\n",
    "    x, y = event.mouseevent.xdata, event.mouseevent.ydata\n",
    "    index = np.argmin(np.abs(solver.eigenvalues - (x + 1j*y)))\n",
    "    ev = solver.eigenvalues[index]\n",
    "    active_dot.set_xdata([ev.real])\n",
    "    active_dot.set_ydata([ev.imag])\n",
    "    active_ev.set_text('%i: %s' %(index, ev))\n",
    "    # Plot mode\n",
    "    solver.set_state(index)\n",
    "    u = solver.state['u']['g']\n",
    "    w = solver.state['w']['g']\n",
    "    wz = solver.state['wz']['g']\n",
    "    p1 = solver.state['p1']['g']\n",
    "    a1 = solver.state['a1']['g']\n",
    "    ρ1 = -a1 / a0['g']**2\n",
    "    phase = p1[0]\n",
    "    phase = phase / np.abs(phase)\n",
    "    ax2.cla()\n",
    "    ax2.plot(z, (u/phase).real, '-b')\n",
    "    ax2.plot(z, (u/phase).imag, '--b')\n",
    "    ax2.set_title('u')\n",
    "    ax3.cla()\n",
    "    ax3.plot(z, (w/phase).real, '-b')\n",
    "    ax3.plot(z, (w/phase).imag, '--b')\n",
    "    ax3.set_title('w')\n",
    "    ax4.cla()\n",
    "    ax4.plot(z, (p1/phase).real, '-b')\n",
    "    ax4.plot(z, (p1/phase).imag, '--b')\n",
    "    ax4.set_title('p1')\n",
    "    ax5.cla()\n",
    "    ax5.plot(z, (ρ1/phase).real, '-b')\n",
    "    ax5.plot(z, (ρ1/phase).imag, '--b')\n",
    "    ax5.set_title('ρ1')\n",
    "\n",
    "fig.canvas.mpl_connect('pick_event', plot_mode)"
   ]
  },
  {
   "cell_type": "code",
   "execution_count": null,
   "metadata": {},
   "outputs": [],
   "source": [
    "dau = np.array([ 1.52930137 -7.68759006e-06j,  0.09540199 -1.00573753e-05j,\n",
    "        0.04099516 -3.71438461e-05j,  0.02599228 -9.21939220e-05j,\n",
    "        0.01901339 -1.73079912e-04j,  0.01498024 -2.79080697e-04j,\n",
    "        0.01234558 -4.08958954e-04j,  0.01047713 -5.59984130e-04j,\n",
    "        0.00906668 -7.27115340e-04j,  0.00794590 -9.02961662e-04j])"
   ]
  },
  {
   "cell_type": "code",
   "execution_count": null,
   "metadata": {},
   "outputs": [],
   "source": [
    "2*dau"
   ]
  },
  {
   "cell_type": "code",
   "execution_count": null,
   "metadata": {},
   "outputs": [],
   "source": [
    "solver.eigenvalues"
   ]
  },
  {
   "cell_type": "code",
   "execution_count": null,
   "metadata": {},
   "outputs": [],
   "source": [
    "index = 3\n",
    "ev = solver.eigenvalues[index]\n",
    "print('ω_tide:', 2 * ev.real)\n",
    "print('t_tide:', 1 / (2*ev.real))\n",
    "print('P_tide:', 2*np.pi / (2*ev.real))\n",
    "print('t_visc:', -1 / ev.imag)\n"
   ]
  },
  {
   "cell_type": "code",
   "execution_count": null,
   "metadata": {},
   "outputs": [],
   "source": [
    "x = np.linspace(0, 4, 1000)[:,None]\n",
    "z = domain.grid(0, scales=scales)\n",
    "Z, X = plot_tools.quad_mesh(z.flatten(), x.flatten())\n",
    "\n",
    "index = 0\n",
    "solver.set_state(index)\n",
    "a1 = solver.state['a1']\n",
    "a0.set_scales(scales)\n",
    "a1.set_scales(scales)\n",
    "ρ1 = -a1['g'] / a0['g']**2\n",
    "R1 = ρ1 * np.exp(1j*kx*x)\n",
    "\n",
    "u = solver.state['u']\n",
    "u.set_scales(scales)\n",
    "U = u['g'] * np.exp(1j*kx*x)\n",
    "fig, axes = plt.subplots(1, 1)\n",
    "axes.pcolormesh(X, Z, U.real)\n",
    "axes.set_xlabel('x')\n",
    "axes.set_ylabel('z')\n",
    "axes.set_title('u')"
   ]
  },
  {
   "cell_type": "code",
   "execution_count": null,
   "metadata": {},
   "outputs": [],
   "source": [
    "# dt(a1) + w*a0z -   a0*div_u = 0\n",
    "# dt(p1) + w*p0z + γ*p0*div_u = 0\n",
    "\n",
    "kx = param.k_tide\n",
    "dz = problem.namespace['dz']\n",
    "a0z = problem.namespace['a0z']\n",
    "p0z = problem.namespace['p0z']\n",
    "γ = param.γ\n",
    "\n",
    "σ = solver.eigenvalues[index]\n",
    "u = solver.state['u']\n",
    "w = solver.state['w']\n",
    "a1 = solver.state['a1']\n",
    "p1 = solver.state['p1']\n",
    "\n",
    "dx = lambda A: 1j*kx*A\n",
    "dt = lambda A: -1j*σ*A\n",
    "\n",
    "xix = u / dt(1)\n",
    "xiz = w / dt(1)\n",
    "div_u = (dx(u) + dz(w))\n",
    "\n",
    "a1g = ((-w*a0z + a0*div_u) / dt(1)).evaluate()\n",
    "p1g = ((-w*p0z - γ*p0*div_u) / dt(1)).evaluate()"
   ]
  },
  {
   "cell_type": "code",
   "execution_count": null,
   "metadata": {},
   "outputs": [],
   "source": [
    "print(np.allclose(a1['c'], a1g['c']))\n",
    "print(np.allclose(p1['c'], p1g['c']))"
   ]
  },
  {
   "cell_type": "code",
   "execution_count": null,
   "metadata": {},
   "outputs": [],
   "source": [
    "U = []\n",
    "W = []\n",
    "n = 3\n",
    "for i in range(n):\n",
    "    solver.set_state(i)\n",
    "    ui = domain.new_field()\n",
    "    wi = domain.new_field()\n",
    "    ui['c'] = solver.state['u']['c']\n",
    "    wi['c'] = solver.state['w']['c']\n",
    "    U.append(ui)\n",
    "    W.append(wi)\n",
    "    \n",
    "integ = problem.namespace['integ']\n",
    "ρ0 = 1 / a0\n",
    "\n",
    "g = np.zeros((n, n), dtype=np.complex128)\n",
    "for i in range(n):\n",
    "    for j in range(n):\n",
    "        g[i,j] = integ(ρ0*(U[i]*np.conj(U[j]) + W[i]*np.conj(W[j]))).evaluate()['c'][0]"
   ]
  },
  {
   "cell_type": "code",
   "execution_count": null,
   "metadata": {},
   "outputs": [],
   "source": [
    "g.real"
   ]
  },
  {
   "cell_type": "code",
   "execution_count": null,
   "metadata": {},
   "outputs": [],
   "source": []
  },
  {
   "cell_type": "code",
   "execution_count": null,
   "metadata": {},
   "outputs": [],
   "source": []
  },
  {
   "cell_type": "code",
   "execution_count": null,
   "metadata": {},
   "outputs": [],
   "source": []
  },
  {
   "cell_type": "code",
   "execution_count": null,
   "metadata": {},
   "outputs": [],
   "source": []
  },
  {
   "cell_type": "code",
   "execution_count": null,
   "metadata": {},
   "outputs": [],
   "source": [
    "ev = solver.eigenvalues[index]\n",
    "γ = ev.imag\n",
    "ω0 = np.sqrt(ev.real**2 + γ**2)"
   ]
  },
  {
   "cell_type": "code",
   "execution_count": null,
   "metadata": {},
   "outputs": [],
   "source": [
    "ω = 0.05\n",
    "FA2 = (ω0**2 - ω**2)**2 + 4*γ**2*ω**2\n",
    "A = FA2**(-1/2)\n",
    "A"
   ]
  },
  {
   "cell_type": "code",
   "execution_count": null,
   "metadata": {},
   "outputs": [],
   "source": [
    "ω"
   ]
  },
  {
   "cell_type": "code",
   "execution_count": null,
   "metadata": {},
   "outputs": [],
   "source": [
    "2*np.pi / ω"
   ]
  },
  {
   "cell_type": "code",
   "execution_count": null,
   "metadata": {},
   "outputs": [],
   "source": [
    "1 / γ"
   ]
  },
  {
   "cell_type": "code",
   "execution_count": null,
   "metadata": {},
   "outputs": [],
   "source": []
  },
  {
   "cell_type": "code",
   "execution_count": null,
   "metadata": {},
   "outputs": [],
   "source": []
  },
  {
   "cell_type": "code",
   "execution_count": null,
   "metadata": {},
   "outputs": [],
   "source": []
  },
  {
   "cell_type": "code",
   "execution_count": null,
   "metadata": {},
   "outputs": [],
   "source": []
  },
  {
   "cell_type": "code",
   "execution_count": null,
   "metadata": {},
   "outputs": [],
   "source": [
    "# Filter eigenvalues\n",
    "evals = solver.eigenvalues.copy()\n",
    "evals = evals[np.isfinite(evals)]\n",
    "evals = evals[np.abs(evals.real) < 1]\n",
    "evals = evals[np.abs(evals.imag) > 1e-2]\n",
    "evals = evals[np.abs(evals.imag) < 1e2]\n",
    "\n",
    "fig, axes = plt.subplots(1, 1)\n",
    "axes.scatter(evals.real, evals.imag)"
   ]
  },
  {
   "cell_type": "code",
   "execution_count": null,
   "metadata": {
    "scrolled": false
   },
   "outputs": [],
   "source": [
    "fig = plt.figure()\n",
    "ax1 = fig.add_subplot(2,2,1)\n",
    "ax2 = fig.add_subplot(2,2,2)\n",
    "ax3 = fig.add_subplot(2,2,3)\n",
    "ax4 = fig.add_subplot(2,2,4)\n",
    "scales = 4\n",
    "a0.set_scales(scales)\n",
    "for field in solver.state.fields:\n",
    "    field.set_scales(scales)\n",
    "z = domain.grid(0, scales=scales)\n",
    "for ev in evals:\n",
    "    print(ev)\n",
    "    index = np.where(solver.eigenvalues == ev)[0][0]\n",
    "    solver.set_state(index)\n",
    "    u = solver.state['u']['g']\n",
    "    w = solver.state['w']['g']\n",
    "    wz = solver.state['wz']['g']\n",
    "    p1 = solver.state['p1']['g']\n",
    "    a1 = solver.state['a1']['g']\n",
    "    ρ1 = -a1 / a0['g']**2\n",
    "    ax1.plot(z, np.abs(u))\n",
    "    ax1.set_title('|u|')\n",
    "    ax2.plot(z, np.abs(w))\n",
    "    ax2.set_title('|w|')\n",
    "    ax3.plot(z, np.abs(p1))\n",
    "    ax3.set_title('|p1|')\n",
    "    ax4.plot(z, np.abs(ρ1))\n",
    "    ax4.set_title('|ρ1|')"
   ]
  },
  {
   "cell_type": "code",
   "execution_count": null,
   "metadata": {},
   "outputs": [],
   "source": []
  }
 ],
 "metadata": {
  "kernelspec": {
   "display_name": "Python 3",
   "language": "python",
   "name": "python3"
  },
  "language_info": {
   "codemirror_mode": {
    "name": "ipython",
    "version": 3
   },
   "file_extension": ".py",
   "mimetype": "text/x-python",
   "name": "python",
   "nbconvert_exporter": "python",
   "pygments_lexer": "ipython3",
   "version": "3.6.0"
  }
 },
 "nbformat": 4,
 "nbformat_minor": 2
}
