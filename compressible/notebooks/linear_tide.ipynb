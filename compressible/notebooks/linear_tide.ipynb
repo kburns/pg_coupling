{
 "cells": [
  {
   "cell_type": "code",
   "execution_count": null,
   "metadata": {},
   "outputs": [],
   "source": [
    "import numpy as np\n",
    "import matplotlib.pyplot as plt\n",
    "import dedalus.public as de\n",
    "import dedalus.extras.plot_tools as plot_tools\n",
    "import atmospheres as atmos\n",
    "import tides\n",
    "import parameters as param\n",
    "import mpi4py.MPI as MPI\n",
    "import uuid\n",
    "import logging\n",
    "logger = logging.getLogger(__name__)\n",
    "%matplotlib notebook"
   ]
  },
  {
   "cell_type": "code",
   "execution_count": null,
   "metadata": {},
   "outputs": [],
   "source": [
    "import importlib\n",
    "importlib.reload(param)"
   ]
  },
  {
   "cell_type": "markdown",
   "metadata": {},
   "source": [
    "## 1D linear tide"
   ]
  },
  {
   "cell_type": "code",
   "execution_count": null,
   "metadata": {
    "scrolled": false
   },
   "outputs": [],
   "source": [
    "domain, problem = tides.linear_tide_1d(param)\n",
    "solver = problem.build_solver()\n",
    "solver.solve()"
   ]
  },
  {
   "cell_type": "code",
   "execution_count": null,
   "metadata": {},
   "outputs": [],
   "source": [
    "scales = 1\n",
    "z = domain.grid(0, scales=scales)\n",
    "\n",
    "fig, (ax1, ax2) = plt.subplots(2, 1)\n",
    "ax1.semilogy(np.abs(solver.state['p1']['c']))\n",
    "ax2.semilogy(np.abs(solver.state['a1']['c']))"
   ]
  },
  {
   "cell_type": "code",
   "execution_count": null,
   "metadata": {},
   "outputs": [],
   "source": [
    "scales = 1\n",
    "\n",
    "kx = param.k_tide\n",
    "x = np.linspace(0, param.Lx, param.Nx, endpoint=False)[:,None]\n",
    "z = domain.grid(0, scales=scales)\n",
    "Z, X = plot_tools.quad_mesh(z.flatten(), x.flatten())\n",
    "\n",
    "field = 'u'\n",
    "f = solver.state[field]\n",
    "f.set_scales(scales)\n",
    "fig, axes = plt.subplots(1, 1)\n",
    "im = axes.pcolormesh(X, Z, np.real(np.exp(1j*kx*x)*f['g']))\n",
    "plt.colorbar(im)\n",
    "axes.set_title(field)\n",
    "axes.set_xlabel('x')\n",
    "axes.set_ylabel('z')"
   ]
  },
  {
   "cell_type": "markdown",
   "metadata": {},
   "source": [
    "## 2D linear tide"
   ]
  },
  {
   "cell_type": "code",
   "execution_count": null,
   "metadata": {
    "scrolled": false
   },
   "outputs": [],
   "source": [
    "domain2, problem2 = tides.linear_tide_2d(param)\n",
    "solver2 = problem2.build_solver()\n",
    "solver2.solve()"
   ]
  },
  {
   "cell_type": "code",
   "execution_count": null,
   "metadata": {
    "scrolled": false
   },
   "outputs": [],
   "source": [
    "fig, axes = plt.subplots(1, 1)\n",
    "solver2.state['u'].require_grid_space()\n",
    "plot_tools.plot_bot_2d(solver2.state['u'], axes=axes)"
   ]
  },
  {
   "cell_type": "code",
   "execution_count": null,
   "metadata": {},
   "outputs": [],
   "source": []
  }
 ],
 "metadata": {
  "kernelspec": {
   "display_name": "Python 3",
   "language": "python",
   "name": "python3"
  },
  "language_info": {
   "codemirror_mode": {
    "name": "ipython",
    "version": 3
   },
   "file_extension": ".py",
   "mimetype": "text/x-python",
   "name": "python",
   "nbconvert_exporter": "python",
   "pygments_lexer": "ipython3",
   "version": "3.6.0"
  }
 },
 "nbformat": 4,
 "nbformat_minor": 2
}
