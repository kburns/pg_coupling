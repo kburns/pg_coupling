{
 "cells": [
  {
   "cell_type": "code",
   "execution_count": null,
   "metadata": {},
   "outputs": [],
   "source": [
    "import numpy as np\n",
    "import matplotlib.pyplot as plt\n",
    "import dedalus.public as de\n",
    "import dedalus.extras.plot_tools as plot_tools\n",
    "import atmospheres as atmos\n",
    "import tides\n",
    "import modes\n",
    "import parameters as param\n",
    "import mpi4py.MPI as MPI\n",
    "import uuid\n",
    "import logging\n",
    "logger = logging.getLogger(__name__)\n",
    "%matplotlib notebook"
   ]
  },
  {
   "cell_type": "code",
   "execution_count": null,
   "metadata": {},
   "outputs": [],
   "source": [
    "import importlib\n",
    "importlib.reload(param)"
   ]
  },
  {
   "cell_type": "markdown",
   "metadata": {},
   "source": [
    "## Solve 1D linear tide"
   ]
  },
  {
   "cell_type": "code",
   "execution_count": null,
   "metadata": {},
   "outputs": [],
   "source": [
    "# Solve tide\n",
    "domain, problem = tides.linear_tide_1d(param)\n",
    "solver = problem.build_solver()\n",
    "solver.solve()"
   ]
  },
  {
   "cell_type": "code",
   "execution_count": null,
   "metadata": {},
   "outputs": [],
   "source": [
    "# Plot coefficients to check convergence\n",
    "fig, (ax1, ax2) = plt.subplots(2, 1)\n",
    "ax1.semilogy(np.abs(solver.state['p1']['c']))\n",
    "ax2.semilogy(np.abs(solver.state['a1']['c']))\n",
    "ax1.set_ylabel(\"|p1['c']|\")\n",
    "ax2.set_ylabel(\"|a1['c']|\")"
   ]
  },
  {
   "cell_type": "code",
   "execution_count": null,
   "metadata": {
    "scrolled": false
   },
   "outputs": [],
   "source": [
    "# Plot tide\n",
    "scales = 1\n",
    "kx = param.k_tide\n",
    "x = np.linspace(0, param.Lx, param.Nx, endpoint=False)[:,None]\n",
    "z = domain.grid(0, scales=scales)\n",
    "Z, X = plot_tools.quad_mesh(z.flatten(), x.flatten())\n",
    "\n",
    "field = 'p1'\n",
    "f = solver.state[field]\n",
    "f.set_scales(scales)\n",
    "fig, axes = plt.subplots(1, 1)\n",
    "im = axes.pcolormesh(X, Z, 2*np.real(np.exp(1j*kx*x)*f['g']))\n",
    "plt.colorbar(im)\n",
    "axes.set_title(field)\n",
    "axes.set_xlabel('x')\n",
    "axes.set_ylabel('z')"
   ]
  },
  {
   "cell_type": "markdown",
   "metadata": {},
   "source": [
    "## Mode amplitude extraction"
   ]
  },
  {
   "cell_type": "markdown",
   "metadata": {},
   "source": [
    "Eigenmodes:\n",
    "\n",
    "$$\\lambda_i M \\cdot X_i + L \\cdot X_i = 0$$\n",
    "\n",
    "Adjoint modes:\n",
    "\n",
    "$$Y_j \\cdot M \\cdot X_i = \\delta_{ji}$$\n",
    "\n",
    "Decompose arbitrary state:\n",
    "\n",
    "$$X = \\sum_i a_i X_i$$\n",
    "\n",
    "$$a_j = Y_j \\cdot M \\cdot X$$\n",
    "\n",
    "Decompose linear solution:\n",
    "\n",
    "$$L \\cdot X = F$$\n",
    "\n",
    "$$\\sum_i a_i L \\cdot X_i = F$$\n",
    "\n",
    "$$\\sum_i a_i \\lambda_i M \\cdot X_i = - F$$\n",
    "\n",
    "$$a_j = - \\frac{Y_j \\cdot F}{\\lambda_j}$$"
   ]
  },
  {
   "cell_type": "code",
   "execution_count": null,
   "metadata": {},
   "outputs": [],
   "source": [
    "# Check mode amplitudes from projecting RHS vs extracting solved coefficients\n",
    "evals, evecs, adj_evals, adj_evecs, proj, sevp, pevp = modes.compute_eigenmodes(param, param.k_tide, sparse=True, N=20, target=20)"
   ]
  },
  {
   "cell_type": "code",
   "execution_count": null,
   "metadata": {},
   "outputs": [],
   "source": [
    "# Construct RHS\n",
    "p = solver.pencils[0]\n",
    "pFe = solver.Fe.get_pencil(p)\n",
    "pFb = solver.Fb.get_pencil(p)\n",
    "b = p.G_eq * pFe + p.G_bc * pFb\n",
    "X = solver.state.get_pencil(p).copy()\n",
    "print('Check L.X = b:', np.allclose(p.L@X, b))\n",
    "\n",
    "# Bias evals by tidal frequency, which is left out of EVP\n",
    "amps_proj = - adj_evecs.T.conj() @ b / (evals - param.ω_tide)\n",
    "amps_solve = proj @ X\n",
    "print('A_proj == A_solve:', np.allclose(amps_proj, amps_solve))"
   ]
  },
  {
   "cell_type": "markdown",
   "metadata": {},
   "source": [
    "## Mode completeness"
   ]
  },
  {
   "cell_type": "code",
   "execution_count": null,
   "metadata": {
    "scrolled": true
   },
   "outputs": [],
   "source": [
    "# Check completeness of modes for representing linear tide\n",
    "evals, evecs, adj_evals, adj_evecs, proj, sevp, pevp = modes.compute_eigenmodes(param, param.k_tide, sparse=False, minreal=0, maxabs=np.inf)"
   ]
  },
  {
   "cell_type": "code",
   "execution_count": null,
   "metadata": {
    "scrolled": false
   },
   "outputs": [],
   "source": [
    "# eigenvalues = sevp.full_eigenvalues\n",
    "# eigenvectors = sevp.full_eigenvectors\n",
    "# adjoint_eigenvalues = sevp.full_adjoint_eigenvalues\n",
    "# adjoint_eigenvectors = sevp.full_adjoint_eigenvectors\n",
    "\n",
    "# maxabs = np.inf\n",
    "# minreal = 0\n",
    "# # Filter modes\n",
    "# keep = np.isfinite(eigenvalues) * (np.abs(eigenvalues) < maxabs) * (np.abs(eigenvalues.real) > minreal)\n",
    "# eigenvalues = eigenvalues[keep]\n",
    "# eigenvectors = eigenvectors[:,keep]\n",
    "# adjoint_eigenvalues = adjoint_eigenvalues[keep]\n",
    "# adjoint_eigenvectors = adjoint_eigenvectors[:,keep]\n",
    "# # Sort modes\n",
    "# sorting = np.argsort(eigenvalues)\n",
    "# eigenvalues = eigenvalues[sorting]\n",
    "# eigenvectors = eigenvectors[:,sorting]\n",
    "# sorting = np.argsort(adjoint_eigenvalues.conj())\n",
    "# adjoint_eigenvalues = adjoint_eigenvalues[sorting]\n",
    "# adjoint_eigenvectors = adjoint_eigenvectors[:,sorting]\n",
    "# # Check mode matching\n",
    "# logger.info(\"Max eval mismatch: %e\" %np.max(np.abs(eigenvalues - adjoint_eigenvalues.conj())))\n",
    "# if not np.allclose(eigenvalues, adjoint_eigenvalues.conj()):\n",
    "#     logger.warn(\"WARNING: Adjoint modes may not match forward modes.\")\n",
    "# # Normalize modes\n",
    "# if True:\n",
    "#     # Normalize by energy\n",
    "#     sevp.eigenvalues = eigenvalues\n",
    "#     sevp.eigenvectors = eigenvectors\n",
    "#     metric_diag = modes.compute_energies(sevp)\n",
    "#     eigenvectors /= np.sqrt(metric_diag)\n",
    "# else:\n",
    "#     # Normalize by Chebyshev inner product\n",
    "#     metric = eigenvectors.T.conj() @ eigenvectors\n",
    "#     eigenvectors /= np.sqrt(np.diag(metric))\n",
    "# # Normalize adjoint modes\n",
    "# metric = adjoint_eigenvectors.T.conj() @ pevp.M @ eigenvectors\n",
    "# adjoint_eigenvectors /= np.diag(metric).conj()\n",
    "# projector = adjoint_eigenvectors.T.conj() @ pevp.M\n",
    "\n",
    "# metric = adjoint_eigenvectors.T.conj() @ pevp.M @ eigenvectors\n",
    "\n",
    "\n",
    "\n",
    "sorting = np.argsort(sevp.full_eigenvalues)\n",
    "sevp.full_eigenvalues = sevp.full_eigenvalues[sorting]\n",
    "sevp.full_eigenvectors = sevp.full_eigenvectors[:,sorting]\n",
    "sevp.full_adjoint_eigenvectors = sevp.full_adjoint_eigenvectors[:,sorting]\n",
    "\n",
    "sevp.eigenvalues = sevp.full_eigenvalues\n",
    "sevp.eigenvectors = sevp.full_eigenvectors\n",
    "\n",
    "FE = sevp.full_eigenvectors\n",
    "FAE = sevp.full_adjoint_eigenvectors\n",
    "\n",
    "energy = modes.compute_energies(sevp)\n",
    "FE = FE / np.sqrt(energy)\n",
    "\n",
    "FM = FAE.conj().T @ pevp.M @ FE\n",
    "FAE = FAE / np.diag(FM).conj()\n",
    "FM = FAE.conj().T @ pevp.M @ FE\n",
    "\n",
    "metric = FM[:509,:509]\n",
    "\n",
    "plt.figure()\n",
    "plt.imshow(np.log10(np.abs(metric)), cmap='viridis', clim=(-20,0))\n",
    "plt.colorbar()\n"
   ]
  },
  {
   "cell_type": "code",
   "execution_count": null,
   "metadata": {},
   "outputs": [],
   "source": [
    "def update_inv(F, I, M, indeces, loops):\n",
    "    P = I @ M @ F\n",
    "    # P[i,j] = I[i,:] @ M @ F[:,j]\n",
    "    for l in range(loops):\n",
    "        I_new = I.copy()\n",
    "        for i in indeces:\n",
    "            for j in indeces:\n",
    "                if i == j:\n",
    "                    I_new[i] /= P[i,i]\n",
    "                else:\n",
    "                    I_new[i] -= P[i,j] * I[j] \n",
    "        I = I_new\n",
    "    return I_new\n",
    "\n",
    "filt = (np.abs(sevp.full_eigenvalues.real) > 1e-5) * (np.abs(sevp.full_eigenvalues.real) < 1e5)\n",
    "N = np.sum(filt)\n",
    "\n",
    "F = FE[:,filt]\n",
    "I = FAE[:,filt].conj().T\n",
    "M = pevp.M\n",
    "\n",
    "I = update_inv(F, I, M, np.arange(np.sum(filt)), 3)"
   ]
  },
  {
   "cell_type": "code",
   "execution_count": null,
   "metadata": {},
   "outputs": [],
   "source": [
    "metric = (I@M@F)\n",
    "\n",
    "plt.figure()\n",
    "plt.imshow(np.log10(np.abs(metric-np.eye(N))), cmap='viridis')\n",
    "plt.colorbar()"
   ]
  },
  {
   "cell_type": "code",
   "execution_count": null,
   "metadata": {},
   "outputs": [],
   "source": [
    "from scipy import linalg\n",
    "full_evecs = sevp.full_eigenvectors\n",
    "inv_full_evecs = linalg.inv(full_evecs)\n",
    "\n",
    "plt.figure()\n",
    "plt.imshow(np.log10(np.abs(full_evecs)), cmap='viridis')\n",
    "plt.colorbar()"
   ]
  },
  {
   "cell_type": "code",
   "execution_count": null,
   "metadata": {
    "scrolled": false
   },
   "outputs": [],
   "source": [
    "filt = np.abs(evals.real) > 0\n",
    "\n",
    "metric_L = adj_evecs.T.conj() @ pevp.L @ evecs\n",
    "adj_evecs_L = adj_evecs / np.diag(metric_L).conj()\n",
    "proj_L = adj_evecs_L.T.conj() @ pevp.L\n",
    "metric_filt = proj[filt,:] @ evecs[:,filt]\n",
    "\n",
    "gevp_error =  pevp.M @ evecs[:,filt] @ np.diag(evals[filt]) + pevp.L @ evecs[:,filt]\n",
    "gevp_rel_error = np.abs(gevp_error) / np.abs(evecs[:,filt])\n",
    "\n",
    "plt.figure()\n",
    "plt.imshow(np.log10(np.abs(evecs[:,filt].T)), cmap='viridis')\n",
    "plt.colorbar()\n",
    "\n",
    "plt.figure()\n",
    "plt.imshow(np.log10(np.abs(gevp_error.T)), cmap='viridis')\n",
    "plt.colorbar()\n",
    "\n",
    "plt.figure()\n",
    "plt.imshow(np.log10(np.abs(gevp_rel_error.T)), cmap='viridis')\n",
    "plt.colorbar()\n",
    "\n",
    "plt.figure()\n",
    "plt.imshow(np.log10(np.abs(metric_filt)-np.eye(np.sum(filt))), cmap='viridis')\n",
    "plt.colorbar()\n",
    "\n",
    "plt.figure()\n",
    "plt.plot(evals[filt].real, evals[filt].imag, '.k')\n",
    "plt.plot(evals[~filt].real, evals[~filt].imag, '.r')\n",
    "plt.xscale('symlog', linthreshx=1e-10)\n",
    "plt.yscale('symlog', linthreshy=1e-10)\n",
    "plt.grid()"
   ]
  },
  {
   "cell_type": "code",
   "execution_count": null,
   "metadata": {},
   "outputs": [],
   "source": [
    "plt.figure()\n",
    "for i in range(6):\n",
    "    plt.semilogy(np.abs(evecs[:,filt][:,122][i::6]), label=str(i))\n",
    "plt.gca().set_color_cycle(None)\n",
    "for i in range(6):\n",
    "    pass#plt.semilogy(np.abs(adj_evecs[:,filt][:,122][i::6]), '--', label=str(i))\n",
    "plt.legend()\n",
    "\n",
    "plt.figure()\n",
    "for i in range(6):\n",
    "    plt.semilogy(np.abs(evecs[:,filt][:,132][i::6]), label=str(i))\n",
    "plt.gca().set_color_cycle(None)\n",
    "for i in range(6):\n",
    "    pass#plt.semilogy(np.abs(adj_evecs[:,filt][:,122][i::6]), '--', label=str(i))\n",
    "plt.legend()"
   ]
  },
  {
   "cell_type": "code",
   "execution_count": null,
   "metadata": {},
   "outputs": [],
   "source": [
    "amps = - adj_evecs.T.conj() @ b / (evals - param.ω_tide)\n",
    "X_recon = evecs @ amps\n",
    "dX = X - X_recon\n",
    "\n",
    "print('X == X_recon:', np.allclose(X, X_recon))\n",
    "print('|X - X_recon|/|X|:', (np.dot(dX, dX.conj()) / np.dot(X, X.conj())).real)\n",
    "\n",
    "plt.figure()\n",
    "plt.loglog(evals.real, np.abs(amps), 'ob')\n",
    "plt.loglog(-evals.real, np.abs(amps), '.r')\n",
    "plt.grid()"
   ]
  },
  {
   "cell_type": "code",
   "execution_count": null,
   "metadata": {},
   "outputs": [],
   "source": [
    "z = domain.grid(0)\n",
    "f = 'p1'\n",
    "plt.figure()\n",
    "\n",
    "solver.state.set_pencil(p, X)\n",
    "solver.state.scatter()\n",
    "plt.plot(z, solver.state[f]['g'].real, '-k', lw=2)\n",
    "plt.plot(z, solver.state[f]['g'].imag, '--k', lw=2)\n",
    "\n",
    "solver.state.set_pencil(p, X_recon)\n",
    "solver.state.scatter()\n",
    "plt.plot(z, solver.state[f]['g'].real, '-r', lw=1)\n",
    "plt.plot(z, solver.state[f]['g'].imag, '--r', lw=1)"
   ]
  },
  {
   "cell_type": "code",
   "execution_count": null,
   "metadata": {},
   "outputs": [],
   "source": []
  },
  {
   "cell_type": "code",
   "execution_count": null,
   "metadata": {},
   "outputs": [],
   "source": []
  },
  {
   "cell_type": "code",
   "execution_count": null,
   "metadata": {},
   "outputs": [],
   "source": []
  },
  {
   "cell_type": "code",
   "execution_count": null,
   "metadata": {},
   "outputs": [],
   "source": []
  },
  {
   "cell_type": "code",
   "execution_count": null,
   "metadata": {},
   "outputs": [],
   "source": []
  },
  {
   "cell_type": "code",
   "execution_count": null,
   "metadata": {},
   "outputs": [],
   "source": []
  },
  {
   "cell_type": "markdown",
   "metadata": {},
   "source": [
    "## 2D linear tide"
   ]
  },
  {
   "cell_type": "code",
   "execution_count": null,
   "metadata": {
    "scrolled": true
   },
   "outputs": [],
   "source": [
    "domain2, problem2 = tides.linear_tide_2d(param)\n",
    "solver2 = problem2.build_solver()\n",
    "solver2.solve()"
   ]
  },
  {
   "cell_type": "code",
   "execution_count": null,
   "metadata": {
    "scrolled": false
   },
   "outputs": [],
   "source": [
    "fig, axes = plt.subplots(1, 1)\n",
    "field = 'p1'\n",
    "f = solver2.state[field]\n",
    "f.require_grid_space()\n",
    "plot_tools.plot_bot_2d(f, axes=axes)"
   ]
  },
  {
   "cell_type": "code",
   "execution_count": null,
   "metadata": {},
   "outputs": [],
   "source": []
  },
  {
   "cell_type": "code",
   "execution_count": null,
   "metadata": {},
   "outputs": [],
   "source": []
  }
 ],
 "metadata": {
  "kernelspec": {
   "display_name": "Python 3",
   "language": "python",
   "name": "python3"
  },
  "language_info": {
   "codemirror_mode": {
    "name": "ipython",
    "version": 3
   },
   "file_extension": ".py",
   "mimetype": "text/x-python",
   "name": "python",
   "nbconvert_exporter": "python",
   "pygments_lexer": "ipython3",
   "version": "3.6.0"
  }
 },
 "nbformat": 4,
 "nbformat_minor": 2
}
