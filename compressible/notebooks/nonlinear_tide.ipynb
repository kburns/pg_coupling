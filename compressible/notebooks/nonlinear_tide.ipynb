{
 "cells": [
  {
   "cell_type": "code",
   "execution_count": null,
   "metadata": {},
   "outputs": [],
   "source": [
    "import numpy as np\n",
    "import matplotlib.pyplot as plt\n",
    "import dedalus.public as de\n",
    "import dedalus.extras.plot_tools as plot_tools\n",
    "import atmospheres as atmos\n",
    "import parameters as param\n",
    "import mpi4py.MPI as MPI\n",
    "import tides\n",
    "import uuid\n",
    "import logging\n",
    "logger = logging.getLogger(__name__)\n",
    "%matplotlib notebook"
   ]
  },
  {
   "cell_type": "code",
   "execution_count": null,
   "metadata": {},
   "outputs": [],
   "source": [
    "import importlib\n",
    "importlib.reload(param)"
   ]
  },
  {
   "cell_type": "markdown",
   "metadata": {},
   "source": [
    "## Background"
   ]
  },
  {
   "cell_type": "code",
   "execution_count": null,
   "metadata": {
    "scrolled": false
   },
   "outputs": [],
   "source": [
    "# Background BVP\n",
    "domain, p_bvp = atmos.solve_hydrostatic_pressure(param, np.float64)\n",
    "p_full, p_trunc, a_full, a_trunc, heq, N2 = atmos.truncate_background(param, p_bvp)"
   ]
  },
  {
   "cell_type": "code",
   "execution_count": null,
   "metadata": {},
   "outputs": [],
   "source": [
    "# IVP domain\n",
    "x_basis = de.Fourier('x', param.Nx, interval=(0, param.Lx), dealias=3/2)\n",
    "z_basis = de.Chebyshev('z', param.Nz, interval=(0, param.Lz), dealias=3/2)\n",
    "domain = de.Domain([x_basis, z_basis], grid_dtype=np.float64)\n",
    "\n",
    "# Background state\n",
    "a0 = domain.new_field()\n",
    "p0 = domain.new_field()\n",
    "u0 = domain.new_field()\n",
    "a0.meta['x']['constant'] = True\n",
    "p0.meta['x']['constant'] = True\n",
    "u0.meta['x']['constant'] = True\n",
    "\n",
    "a0.set_scales(1)\n",
    "p0.set_scales(1)\n",
    "slices = domain.dist.grid_layout.slices(scales=1)\n",
    "a_trunc.set_scales(1)\n",
    "p_trunc.set_scales(1)\n",
    "a0['g'][:] = a_trunc['g'][slices[1]]\n",
    "p0['g'][:] = p_trunc['g'][slices[1]]\n",
    "\n",
    "u0['g'] = param.U"
   ]
  },
  {
   "cell_type": "markdown",
   "metadata": {},
   "source": [
    "## Problem"
   ]
  },
  {
   "cell_type": "code",
   "execution_count": null,
   "metadata": {
    "scrolled": false
   },
   "outputs": [],
   "source": [
    "# Adiabatic viscous fully-compressible hydrodynamics\n",
    "problem = de.LBVP(domain, variables=['a1','p1','u1','w1','uz1','wz1'], \n",
    "    ncc_cutoff=param.ivp_cutoff, entry_cutoff=param.matrix_cutoff)\n",
    "problem.meta[:]['z']['dirichlet'] = True\n",
    "problem.parameters['a0'] = a0\n",
    "problem.parameters['p0'] = p0\n",
    "problem.parameters['u0'] = u0\n",
    "problem.parameters['az0'] = a0.differentiate('z')\n",
    "problem.parameters['pz0'] = p0.differentiate('z')\n",
    "problem.substitutions['w0'] = \"0\"\n",
    "problem.substitutions['uz0'] = \"0\" #u0.differentiate('z')\n",
    "problem.substitutions['wz0'] = \"0\" #w0.differentiate('z')\n",
    "problem.parameters['μ'] = param.μ\n",
    "problem.parameters['γ'] = param.γ\n",
    "problem.parameters['k'] = param.k_tide\n",
    "problem.parameters['A'] = param.A_tide\n",
    "problem.parameters['Lz'] = param.Lz\n",
    "problem.substitutions['az1'] = \"dz(a1)\"\n",
    "problem.substitutions['pz1'] = \"dz(p1)\"\n",
    "problem.substitutions['φ'] = \"A*cos(k*x)*exp(k*(z - Lz))\"\n",
    "problem.substitutions['txx(u, w, uz, wz)'] = \"μ*(2*dx(u) - 2/3*(dx(u) + wz))\"\n",
    "problem.substitutions['txz(u, w, uz, wz)'] = \"μ*(dx(w) + uz)\"\n",
    "problem.substitutions['tzz(u, w, uz, wz)'] = \"μ*(2*wz - 2/3*(dx(u) + wz))\"\n",
    "problem.substitutions['fu(a_L, p_L, u_L, w_L, az_L, pz_L, uz_L, wz_L, a_R, p_R, u_R, w_R, az_R, pz_R, uz_R, wz_R)'] = \"- (u_L*dx(u_R) + w_L*uz_R) - a_L*dx(p_R) + a_L*(dx(txx(u_R, w_R, uz_R, wz_R)) + dz(txz(u_R, w_R, uz_R, wz_R)))\"\n",
    "problem.substitutions['fw(a_L, p_L, u_L, w_L, az_L, pz_L, uz_L, wz_L, a_R, p_R, u_R, w_R, az_R, pz_R, uz_R, wz_R)'] = \"- (u_L*dx(w_R) + w_L*wz_R) - a_L*pz_R    + a_L*(dx(txz(u_R, w_R, uz_R, wz_R)) + dz(tzz(u_R, w_R, uz_R, wz_R)))\"\n",
    "problem.substitutions['fa(a_L, p_L, u_L, w_L, az_L, pz_L, uz_L, wz_L, a_R, p_R, u_R, w_R, az_R, pz_R, uz_R, wz_R)'] = \"- (u_L*dx(a_R) + w_L*az_R) + a_L*(dx(u_R) + wz_R)\"\n",
    "problem.substitutions['fp(a_L, p_L, u_L, w_L, az_L, pz_L, uz_L, wz_L, a_R, p_R, u_R, w_R, az_R, pz_R, uz_R, wz_R)'] = \"- (u_L*dx(p_R) + w_L*pz_R) - γ*p_L*(dx(u_R) + wz_R)\"\n",
    "problem.substitutions['fu_01'] = \"fu(a0, p0, u0, w0, az0, pz0, uz0, wz0, a1, p1, u1, w1, az1, pz1, uz1, wz1)\"\n",
    "problem.substitutions['fw_01'] = \"fw(a0, p0, u0, w0, az0, pz0, uz0, wz0, a1, p1, u1, w1, az1, pz1, uz1, wz1)\"\n",
    "problem.substitutions['fa_01'] = \"fa(a0, p0, u0, w0, az0, pz0, uz0, wz0, a1, p1, u1, w1, az1, pz1, uz1, wz1)\"\n",
    "problem.substitutions['fp_01'] = \"fp(a0, p0, u0, w0, az0, pz0, uz0, wz0, a1, p1, u1, w1, az1, pz1, uz1, wz1)\"\n",
    "problem.substitutions['fu_10'] = \"fu(a1, p1, u1, w1, az1, pz1, uz1, wz1, a0, p0, u0, w0, az0, pz0, uz0, wz0)\"\n",
    "problem.substitutions['fw_10'] = \"fw(a1, p1, u1, w1, az1, pz1, uz1, wz1, a0, p0, u0, w0, az0, pz0, uz0, wz0)\"\n",
    "problem.substitutions['fa_10'] = \"fa(a1, p1, u1, w1, az1, pz1, uz1, wz1, a0, p0, u0, w0, az0, pz0, uz0, wz0)\"\n",
    "problem.substitutions['fp_10'] = \"fp(a1, p1, u1, w1, az1, pz1, uz1, wz1, a0, p0, u0, w0, az0, pz0, uz0, wz0)\"\n",
    "problem.substitutions['Hu'] = \"-dx(φ)\"\n",
    "problem.substitutions['Hw'] = \"-dz(φ)\"\n",
    "problem.add_equation(\"fu_01 + fu_10 = -Hu\", condition=\"nx != 0\")\n",
    "problem.add_equation(\"fw_01 + fw_10 = -Hw\", condition=\"nx != 0\")\n",
    "problem.add_equation(\"fa_01 + fa_10 = 0\", condition=\"nx != 0\")\n",
    "problem.add_equation(\"fp_01 + fp_10 = 0\", condition=\"nx != 0\")\n",
    "problem.add_equation(\"uz1 - dz(u1) = 0\", condition=\"nx != 0\")\n",
    "problem.add_equation(\"wz1 - dz(w1) = 0\", condition=\"nx != 0\")\n",
    "problem.add_bc(\"left(txz(u1, w1, uz1, wz1)) = 0\", condition=\"nx != 0\")\n",
    "problem.add_bc(\"right(txz(u1, w1, uz1, wz1)) = 0\", condition=\"nx != 0\")\n",
    "problem.add_bc(\"left(w1) = 0\", condition=\"nx != 0\")\n",
    "problem.add_bc(\"right(w1) = 0\", condition=\"nx != 0\")\n",
    "\n",
    "problem.add_equation(\"a1 = 0\", condition=\"nx == 0\")\n",
    "problem.add_equation(\"p1 = 0\", condition=\"nx == 0\")\n",
    "problem.add_equation(\"u1 = 0\", condition=\"nx == 0\")\n",
    "problem.add_equation(\"w1 = 0\", condition=\"nx == 0\")\n",
    "problem.add_equation(\"uz1 = 0\", condition=\"nx == 0\")\n",
    "problem.add_equation(\"wz1 = 0\", condition=\"nx == 0\")"
   ]
  },
  {
   "cell_type": "markdown",
   "metadata": {},
   "source": [
    "## Solver"
   ]
  },
  {
   "cell_type": "code",
   "execution_count": null,
   "metadata": {},
   "outputs": [],
   "source": [
    "# Build solver\n",
    "solver = problem.build_solver()\n",
    "solver.solve()\n",
    "print(np.linalg.cond(solver.pencils[0].L.A))"
   ]
  },
  {
   "cell_type": "code",
   "execution_count": null,
   "metadata": {},
   "outputs": [],
   "source": [
    "for pencil in solver.pencils:\n",
    "    print(np.linalg.cond(pencil.L_exp.A))\n",
    "    print(np.linalg.cond(pencil.L.A))\n",
    "    print()"
   ]
  },
  {
   "cell_type": "code",
   "execution_count": null,
   "metadata": {
    "scrolled": false
   },
   "outputs": [],
   "source": [
    "plt.figure()\n",
    "L = solver.pencils[0].L_exp\n",
    "plt.imshow(np.log10(np.abs(L.A)))\n",
    "\n",
    "np.where(np.sum(np.abs(L.A), axis=0) == 0)"
   ]
  },
  {
   "cell_type": "code",
   "execution_count": null,
   "metadata": {
    "scrolled": false
   },
   "outputs": [],
   "source": [
    "scales = 1\n",
    "z = domain.grid(0, scales=scales)\n",
    "\n",
    "fig, (ax1, ax2) = plt.subplots(2, 1)\n",
    "ax1.semilogy(np.abs(solver.state['p1']['c'][2]))\n",
    "ax2.semilogy(np.abs(solver.state['a1']['c'][2]))"
   ]
  },
  {
   "cell_type": "code",
   "execution_count": null,
   "metadata": {},
   "outputs": [],
   "source": [
    "scales = 10\n",
    "from dedalus.extras import plot_tools\n",
    "\n",
    "field = 'a1'\n",
    "f = solver.state[field]\n",
    "f.set_scales(scales)\n",
    "f.require_grid_space()\n",
    "fig, axes = plt.subplots(1, 1)\n",
    "plot_tools.plot_bot_2d(f, axes=axes)"
   ]
  },
  {
   "cell_type": "code",
   "execution_count": null,
   "metadata": {},
   "outputs": [],
   "source": []
  },
  {
   "cell_type": "code",
   "execution_count": null,
   "metadata": {},
   "outputs": [],
   "source": []
  },
  {
   "cell_type": "code",
   "execution_count": null,
   "metadata": {},
   "outputs": [],
   "source": [
    "# Adiabatic viscous fully-compressible hydrodynamics\n",
    "problem = de.LBVP(domain, variables=['a1','p1','u1','w1','uz1','wz1'], \n",
    "    ncc_cutoff=param.ivp_cutoff, entry_cutoff=param.matrix_cutoff)\n",
    "problem.meta[:]['z']['dirichlet'] = True\n",
    "problem.parameters['a0'] = a0\n",
    "problem.parameters['p0'] = p0\n",
    "problem.parameters['u0'] = u0\n",
    "problem.parameters['az0'] = a0.differentiate('z')\n",
    "problem.parameters['pz0'] = p0.differentiate('z')\n",
    "problem.substitutions['w0'] = \"0\"\n",
    "problem.substitutions['uz0'] = \"0\" #u0.differentiate('z')\n",
    "problem.substitutions['wz0'] = \"0\" #w0.differentiate('z')\n",
    "problem.parameters['μ'] = param.μ\n",
    "problem.parameters['γ'] = param.γ\n",
    "problem.parameters['k'] = param.k_tide\n",
    "problem.parameters['A'] = param.A_tide\n",
    "problem.parameters['Lz'] = param.Lz\n",
    "problem.substitutions['az1'] = \"dz(a1)\"\n",
    "problem.substitutions['pz1'] = \"dz(p1)\"\n",
    "problem.substitutions['φ'] = \"A*cos(k*x)*exp(k*(z - Lz))\"\n",
    "problem.substitutions['txx(u, w, uz, wz)'] = \"μ*(2*dx(u) - 2/3*(dx(u) + wz))\"\n",
    "problem.substitutions['txz(u, w, uz, wz)'] = \"μ*(dx(w) + uz)\"\n",
    "problem.substitutions['tzz(u, w, uz, wz)'] = \"μ*(2*wz - 2/3*(dx(u) + wz))\"\n",
    "problem.substitutions['fu(a_L, p_L, u_L, w_L, az_L, pz_L, uz_L, wz_L, a_R, p_R, u_R, w_R, az_R, pz_R, uz_R, wz_R)'] = \"- (u_L*dx(u_R) + w_L*uz_R) - a_L*dx(p_R) + a_L*(dx(txx(u_R, w_R, uz_R, wz_R)) + dz(txz(u_R, w_R, uz_R, wz_R)))\"\n",
    "problem.substitutions['fw(a_L, p_L, u_L, w_L, az_L, pz_L, uz_L, wz_L, a_R, p_R, u_R, w_R, az_R, pz_R, uz_R, wz_R)'] = \"- (u_L*dx(w_R) + w_L*wz_R) - a_L*pz_R    + a_L*(dx(txz(u_R, w_R, uz_R, wz_R)) + dz(tzz(u_R, w_R, uz_R, wz_R)))\"\n",
    "problem.substitutions['fa(a_L, p_L, u_L, w_L, az_L, pz_L, uz_L, wz_L, a_R, p_R, u_R, w_R, az_R, pz_R, uz_R, wz_R)'] = \"- (u_L*dx(a_R) + w_L*az_R) + a_L*(dx(u_R) + wz_R)\"\n",
    "problem.substitutions['fp(a_L, p_L, u_L, w_L, az_L, pz_L, uz_L, wz_L, a_R, p_R, u_R, w_R, az_R, pz_R, uz_R, wz_R)'] = \"- (u_L*dx(p_R) + w_L*pz_R) - γ*p_L*(dx(u_R) + wz_R)\"\n",
    "problem.substitutions['fu_01'] = \"fu(a0, p0, u0, w0, az0, pz0, uz0, wz0, a1, p1, u1, w1, az1, pz1, uz1, wz1)\"\n",
    "problem.substitutions['fw_01'] = \"fw(a0, p0, u0, w0, az0, pz0, uz0, wz0, a1, p1, u1, w1, az1, pz1, uz1, wz1)\"\n",
    "problem.substitutions['fa_01'] = \"fa(a0, p0, u0, w0, az0, pz0, uz0, wz0, a1, p1, u1, w1, az1, pz1, uz1, wz1)\"\n",
    "problem.substitutions['fp_01'] = \"fp(a0, p0, u0, w0, az0, pz0, uz0, wz0, a1, p1, u1, w1, az1, pz1, uz1, wz1)\"\n",
    "problem.substitutions['fu_10'] = \"fu(a1, p1, u1, w1, az1, pz1, uz1, wz1, a0, p0, u0, w0, az0, pz0, uz0, wz0)\"\n",
    "problem.substitutions['fw_10'] = \"fw(a1, p1, u1, w1, az1, pz1, uz1, wz1, a0, p0, u0, w0, az0, pz0, uz0, wz0)\"\n",
    "problem.substitutions['fa_10'] = \"fa(a1, p1, u1, w1, az1, pz1, uz1, wz1, a0, p0, u0, w0, az0, pz0, uz0, wz0)\"\n",
    "problem.substitutions['fp_10'] = \"fp(a1, p1, u1, w1, az1, pz1, uz1, wz1, a0, p0, u0, w0, az0, pz0, uz0, wz0)\"\n",
    "problem.substitutions['Hu'] = \"-dx(φ)\"\n",
    "problem.substitutions['Hw'] = \"-dz(φ)\"\n",
    "problem.add_equation(\"fu_01 + fu_10 = -Hu\", condition=\"nx != 0\")\n",
    "problem.add_equation(\"fw_01 + fw_10 = -Hw\", condition=\"nx != 0\")\n",
    "problem.add_equation(\"fa_01 + fa_10 = 0\", condition=\"nx != 0\")\n",
    "problem.add_equation(\"fp_01 + fp_10 = 0\", condition=\"nx != 0\")\n",
    "problem.add_equation(\"uz1 - dz(u1) = 0\", condition=\"nx != 0\")\n",
    "problem.add_equation(\"wz1 - dz(w1) = 0\", condition=\"nx != 0\")\n",
    "problem.add_bc(\"left(txz(u1, w1, uz1, wz1)) = 0\", condition=\"nx != 0\")\n",
    "problem.add_bc(\"right(txz(u1, w1, uz1, wz1)) = 0\", condition=\"nx != 0\")\n",
    "problem.add_bc(\"left(w1) = 0\", condition=\"nx != 0\")\n",
    "problem.add_bc(\"right(w1) = 0\", condition=\"nx != 0\")\n",
    "\n",
    "problem.add_equation(\"a1 = 0\", condition=\"nx == 0\")\n",
    "problem.add_equation(\"p1 = 0\", condition=\"nx == 0\")\n",
    "problem.add_equation(\"u1 = 0\", condition=\"nx == 0\")\n",
    "problem.add_equation(\"w1 = 0\", condition=\"nx == 0\")\n",
    "problem.add_equation(\"uz1 = 0\", condition=\"nx == 0\")\n",
    "problem.add_equation(\"wz1 = 0\", condition=\"nx == 0\")"
   ]
  }
 ],
 "metadata": {
  "kernelspec": {
   "display_name": "Python 3",
   "language": "python",
   "name": "python3"
  },
  "language_info": {
   "codemirror_mode": {
    "name": "ipython",
    "version": 3
   },
   "file_extension": ".py",
   "mimetype": "text/x-python",
   "name": "python",
   "nbconvert_exporter": "python",
   "pygments_lexer": "ipython3",
   "version": "3.6.0"
  }
 },
 "nbformat": 4,
 "nbformat_minor": 2
}
