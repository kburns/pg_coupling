{
 "cells": [
  {
   "cell_type": "markdown",
   "metadata": {},
   "source": [
    "# Background construction"
   ]
  },
  {
   "cell_type": "markdown",
   "metadata": {},
   "source": [
    "This notebook examines the background construction method and errors."
   ]
  },
  {
   "cell_type": "code",
   "execution_count": null,
   "metadata": {},
   "outputs": [],
   "source": [
    "import numpy as np\n",
    "import matplotlib.pyplot as plt\n",
    "import dedalus.public as de\n",
    "import dedalus.extras.plot_tools as plot_tools\n",
    "import atmospheres as atmos\n",
    "import parameters as param\n",
    "import mpi4py.MPI as MPI\n",
    "import uuid\n",
    "%matplotlib notebook"
   ]
  },
  {
   "cell_type": "code",
   "execution_count": null,
   "metadata": {},
   "outputs": [],
   "source": [
    "import importlib\n",
    "importlib.reload(param)"
   ]
  },
  {
   "cell_type": "code",
   "execution_count": null,
   "metadata": {
    "scrolled": false
   },
   "outputs": [],
   "source": [
    "domain, p_full, a_full = atmos.solve_hydrostatic_pressure(param, np.float64)\n",
    "p_full, p, a_full, a, heq, N2 = atmos.truncate_background(param, p_full, a_full)"
   ]
  },
  {
   "cell_type": "code",
   "execution_count": null,
   "metadata": {
    "scrolled": false
   },
   "outputs": [],
   "source": [
    "# Plot coefficients\n",
    "fig, axes = plt.subplots(1, 1)\n",
    "axes.semilogy(np.abs(p_full['c']), '-', label='p_full')\n",
    "axes.semilogy(np.abs(a_full['c']), '-', label='a_full')\n",
    "axes.semilogy(np.abs(N2['c']), '-', label='N2', zorder=0)\n",
    "axes.semilogy(np.abs(heq['c']), '-', label='heq', zorder=0)\n",
    "axes.set_color_cycle(None)\n",
    "axes.semilogy(np.abs(p['c']), 'o')\n",
    "axes.semilogy(np.abs(a['c']), 'o')\n",
    "axes.set_color_cycle(None)\n",
    "axes.axhline(param.pressure_floor*np.max(np.abs(p_full['c'])), ls='dashed', c='b')\n",
    "axes.axhline(param.background_floor*np.max(np.abs(a_full['c'])), ls='dashed', c='g')\n",
    "axes.set_xlabel('Tn')\n",
    "axes.set_ylabel('cn')\n",
    "axes.set_title('Background field coefficients')\n",
    "axes.legend(loc='upper right')"
   ]
  },
  {
   "cell_type": "code",
   "execution_count": null,
   "metadata": {},
   "outputs": [],
   "source": [
    "# Plot coefficient errors\n",
    "fig, axes = plt.subplots(1, 1)\n",
    "axes.semilogy(np.abs(p_full['c']-p['c']), '-', label='p_full-p')\n",
    "axes.semilogy(np.abs(a_full['c']-a['c']), '-', label='a_full-a')\n",
    "axes.axhline(param.pressure_floor*np.max(np.abs(p_full['c'])), ls='dashed', c='b')\n",
    "axes.axhline(param.background_floor*np.max(np.abs(a_full['c'])), ls='dashed', c='g')\n",
    "axes.set_xlabel('Tn')\n",
    "axes.set_ylabel('cn')\n",
    "axes.set_title('Background field coefficients')\n",
    "axes.legend(loc='upper right')"
   ]
  },
  {
   "cell_type": "code",
   "execution_count": null,
   "metadata": {
    "scrolled": false
   },
   "outputs": [],
   "source": [
    "fig, (ax1, ax2) = plt.subplots(2, 1)\n",
    "\n",
    "# Examine hydrostatic equilibrium residual\n",
    "z = domain.grid(0)\n",
    "heq.set_scales(1)\n",
    "ax1.plot(z, heq['g'], '-r')\n",
    "ax1.set_xlabel('z')\n",
    "ax1.set_ylabel('Heq residual')\n",
    "print('Heq Linf error:', np.max(np.abs(heq['g'])))\n",
    "\n",
    "# Examine buoyancy frequency residual\n",
    "N2_ref = param.N2_func(z)\n",
    "N2.set_scales(1)\n",
    "ax2.plot(z, N2['g']-N2_ref, '-r')\n",
    "ax2.set_xlabel('z')\n",
    "ax2.set_ylabel('N2 residual')\n",
    "print('N2 Linf error:', np.max(np.abs(N2['g']-N2_ref)))"
   ]
  },
  {
   "cell_type": "code",
   "execution_count": null,
   "metadata": {},
   "outputs": [],
   "source": [
    "pz = p.differentiate('z')\n",
    "Hp = (-p / pz).evaluate()\n",
    "cs2 = (param.γ * p * a).evaluate()\n",
    "ωc = (cs2**0.5 / 2 / Hp).evaluate()"
   ]
  },
  {
   "cell_type": "code",
   "execution_count": null,
   "metadata": {
    "scrolled": false
   },
   "outputs": [],
   "source": [
    "z = domain.grid(0)\n",
    "fig, axes = plt.subplots(1, 1)\n",
    "a.set_scales(1)\n",
    "p.set_scales(1)\n",
    "Hp.set_scales(1)\n",
    "cs2.set_scales(1)\n",
    "axes.plot(z, a['g'], label='a')\n",
    "axes.plot(z, p['g'], label='p')\n",
    "axes.plot(z, Hp['g'], label='Hp')\n",
    "axes.plot(z, cs2['g'], label='cs2')\n",
    "axes.axhline(0, c='k')\n",
    "axes.set_xlabel('z')\n",
    "axes.set_yscale('log')\n",
    "axes.legend(loc='upper left')"
   ]
  },
  {
   "cell_type": "code",
   "execution_count": null,
   "metadata": {
    "scrolled": false
   },
   "outputs": [],
   "source": [
    "fig, axes = plt.subplots(1, 1)\n",
    "N2.set_scales(1)\n",
    "ωc.set_scales(1)\n",
    "axes.plot(z, N2['g']**0.5, label='N')\n",
    "#axes.plot(z, N2_ref**0.5, '--', label='Nr')\n",
    "axes.plot(z, ωc['g'], label='ωc')\n",
    "axes.set_xlabel('z')\n",
    "axes.legend(loc='upper left')\n",
    "axes.set_ylim(0, None)"
   ]
  },
  {
   "cell_type": "code",
   "execution_count": null,
   "metadata": {},
   "outputs": [],
   "source": []
  },
  {
   "cell_type": "code",
   "execution_count": null,
   "metadata": {},
   "outputs": [],
   "source": []
  },
  {
   "cell_type": "code",
   "execution_count": null,
   "metadata": {},
   "outputs": [],
   "source": []
  }
 ],
 "metadata": {
  "kernelspec": {
   "display_name": "Python 3",
   "language": "python",
   "name": "python3"
  },
  "language_info": {
   "codemirror_mode": {
    "name": "ipython",
    "version": 3
   },
   "file_extension": ".py",
   "mimetype": "text/x-python",
   "name": "python",
   "nbconvert_exporter": "python",
   "pygments_lexer": "ipython3",
   "version": "3.6.0"
  }
 },
 "nbformat": 4,
 "nbformat_minor": 1
}
